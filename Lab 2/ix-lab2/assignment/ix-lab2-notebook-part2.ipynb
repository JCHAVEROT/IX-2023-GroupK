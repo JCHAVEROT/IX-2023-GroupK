{
 "cells": [
  {
   "attachments": {},
   "cell_type": "markdown",
   "metadata": {},
   "source": [
    "# Networks: structure, evolution & processes\n",
    "**Internet Analytics - Lab 2**\n",
    "\n",
    "---\n",
    "\n",
    "**Group:** K\n",
    "\n",
    "**Names:**\n",
    "\n",
    "* Mathieu Sauser\n",
    "* Jérémy Chaverot\n",
    "* Heikel Jebali\n",
    "* Luca Mouchel\n",
    "---\n",
    "\n",
    "#### Instructions\n",
    "\n",
    "*This is a template for part 2 of the lab. Clearly write your answers, comments and interpretations in Markodown cells. Don't forget that you can add $\\LaTeX$ equations in these cells. Feel free to add or remove any cell.*\n",
    "\n",
    "*Please properly comment your code. Code readability will be considered for grading. To avoid long cells of codes in the notebook, you can also embed long python functions and classes in a separate module. Don’t forget to hand in your module if that is the case. In multiple exercises, you are required to come up with your own method to solve various problems. Be creative and clearly motivate and explain your methods. Creativity and clarity will be considered for grading.*"
   ]
  },
  {
   "cell_type": "markdown",
   "metadata": {},
   "source": [
    "---\n",
    "\n",
    "## 2.2 Network sampling\n",
    "\n",
    "#### Exercise 2.7: Random walk on the Facebook network"
   ]
  },
  {
   "cell_type": "code",
   "execution_count": 1,
   "metadata": {},
   "outputs": [],
   "source": [
    "import requests\n",
    "import random\n",
    "import numpy as np\n",
    "#test"
   ]
  },
  {
   "cell_type": "code",
   "execution_count": 2,
   "metadata": {},
   "outputs": [],
   "source": [
    "#test"
   ]
  },
  {
   "attachments": {},
   "cell_type": "markdown",
   "metadata": {},
   "source": [
    "Please note we originally started by setting $u=v$ at random but we then decided to sample $v$ by making it a user that was not seen previously so that each node that we visit is unique. "
   ]
  },
  {
   "cell_type": "code",
   "execution_count": 3,
   "metadata": {
    "collapsed": true
   },
   "outputs": [
    {
     "name": "stdout",
     "output_type": "stream",
     "text": [
      "100 iterations done, current age average: 21.98\n",
      "200 iterations done, current age average: 24.32\n",
      "300 iterations done, current age average: 24.68\n",
      "400 iterations done, current age average: 25.02\n",
      "500 iterations done, current age average: 25.41\n",
      "600 iterations done, current age average: 24.71\n",
      "700 iterations done, current age average: 25.12\n",
      "800 iterations done, current age average: 25.26\n",
      "900 iterations done, current age average: 24.99\n",
      "At 1000 iterations, we estimate that the average age is: 25.331\n"
     ]
    }
   ],
   "source": [
    "URL_TEMPLATE = 'http://iccluster050.iccluster.epfl.ch:5050/v1.0/facebook?user={user_id}'\n",
    "\n",
    "\"\"\"\n",
    "    This function returns the data of a user with the given user_id in JSON format.\n",
    "\"\"\"\n",
    "def get_data(user_id):\n",
    "    return requests.get(URL_TEMPLATE.format(user_id=user_id)).json()\n",
    "\n",
    "\"\"\"\n",
    "    This function will return a random friend if it has not been seen before.\n",
    "    If all friends have already been seen, then we pick a friend at random and repeat the process to find a friend that has not been seen.\n",
    "    This allows us to avoid resampling from already seen users.\n",
    "\"\"\"\n",
    "def sample_user(querying_user_friends, seen_users):\n",
    "    potential_users = [friend for friend in querying_user_friends if friend not in seen_users]\n",
    "    if len(potential_users) == 0:        \n",
    "        return sample_user(querying_user_friends= get_data(random.choice(querying_user_friends))['friends'], seen_users=seen_users)\n",
    "    else:\n",
    "        return random.choice(potential_users)\n",
    "\n",
    "\"\"\"\n",
    "    This function performs a random walk on the Facebook graph, starting from the Source s and visits N nodes.\n",
    "    we retrieve data from each node and store the age of each node in the ages list which \n",
    "    we use to compute the average age.\n",
    "\"\"\"\n",
    "def random_walk(s, N, log_progess=False):\n",
    "    #attributes is a list of tuples (user_id, age, number_of_friends)\n",
    "    attributes = []\n",
    "    source = get_data(s)\n",
    "    attributes.append((s, source['age'], len(source['friends'])))\n",
    "\n",
    "    seen = set()\n",
    "    u = s\n",
    "    i = 0\n",
    "    while i < N:\n",
    "        if log_progess:\n",
    "            if i % 100 == 0 and i != 0:\n",
    "                ages = np.array(attributes)[:,1].astype(np.int64)\n",
    "                print(f'{i} iterations done, current age average: {round(np.mean(ages), 2)}')\n",
    "        data = get_data(u)\n",
    "        age = data['age']\n",
    "        neighbors = data['friends']\n",
    "        u = sample_user(querying_user_friends=neighbors,  seen_users=seen)\n",
    "        seen.add(u)\n",
    "        attributes.append((u, age, len(neighbors)))\n",
    "        i = i+1\n",
    "    return attributes\n",
    "#because we have tuples of the form (user_id, age, number_of_friends), to collect the list of ages, we apply numpy \n",
    "#slicing using [:, 1] which returns every element of index 1 in the tuple, which is the age.\n",
    "ages = np.array(random_walk(s=\"a5771bce93e200c36f7cd9dfd0e5deaa\", N=1000, log_progess=True))[:, 1].astype(np.int64)\n",
    "print(f\"At 1000 iterations, we estimate that the average age is: {round(np.mean(ages), 3)}\")\n"
   ]
  },
  {
   "attachments": {},
   "cell_type": "markdown",
   "metadata": {},
   "source": [
    "Our estimation of the average age of a Facebook user is $25.3$ years. To get this estimation, we visited $1000$ users."
   ]
  },
  {
   "cell_type": "markdown",
   "metadata": {},
   "source": [
    "#### Exercise 2.8"
   ]
  },
  {
   "attachments": {},
   "cell_type": "markdown",
   "metadata": {},
   "source": [
    "$1.$ Our estimation is pretty far from the true average age, by nearly 20 years.\n",
    "\n",
    "$2.$ It seems people tend to be friends with users the same age as them. When doing a random walk, we sample users who tend to have the same age, so calculating the average does not include users from a different age group.\n",
    "\n",
    "$3.$ As seen in class, we will use an unbiased estimator. Because we don't know the total number of edges and the total number of vertices, the estimator we use is the following:\n",
    "\n",
    "$$\\hat{F} = \\frac{\\sum_t f(X_t)/d_{X_t}}{\\sum_t 1/d_{X_t}}$$ \n",
    "\n",
    "In our case: \n",
    "- $f(X_t)$ represents the age\n",
    "- $d_{X_t}$ is the degree of the node\n",
    "\n",
    "\n"
   ]
  },
  {
   "cell_type": "code",
   "execution_count": 4,
   "metadata": {},
   "outputs": [],
   "source": [
    "ls = random_walk(\"a5771bce93e200c36f7cd9dfd0e5deaa\", 1000, False)"
   ]
  },
  {
   "attachments": {},
   "cell_type": "markdown",
   "metadata": {},
   "source": [
    "Basically, each user we visit appears exactly once in the computations then we collect the ages and degrees, and compute the unbiased estimator which gives a result very close to the average age released by facebook. If we visit a larger number of nodes, we would surely get closer to the true average age."
   ]
  },
  {
   "cell_type": "code",
   "execution_count": 5,
   "metadata": {
    "collapsed": true
   },
   "outputs": [],
   "source": [
    "def unbiased_estimator(ages, degrees):\n",
    "    #return the value of the unbiased estimator\n",
    "    return np.sum(ages / degrees) / np.sum(1/degrees)"
   ]
  },
  {
   "cell_type": "code",
   "execution_count": 6,
   "metadata": {},
   "outputs": [
    {
     "data": {
      "text/plain": [
       "45.23"
      ]
     },
     "execution_count": 6,
     "metadata": {},
     "output_type": "execute_result"
    }
   ],
   "source": [
    "ages = np.array(ls)[:, 1].astype(np.int64)\n",
    "degrees = np.array(ls)[:, 2].astype(np.int64)\n",
    "round(unbiased_estimator(ages=ages, degrees=degrees), 2)"
   ]
  },
  {
   "attachments": {},
   "cell_type": "markdown",
   "metadata": {},
   "source": [
    "We find an estimated average age of $45.2$ years which is really close to the one the study published."
   ]
  },
  {
   "attachments": {},
   "cell_type": "markdown",
   "metadata": {},
   "source": [
    "Without using an unbiased estimator, one could try to have a naive approach and just visit each node only once and compute the mean but this still shows some bias as we can see that the age we find is far from the average age facebook released."
   ]
  },
  {
   "cell_type": "code",
   "execution_count": 7,
   "metadata": {},
   "outputs": [
    {
     "data": {
      "text/plain": [
       "23.69"
      ]
     },
     "execution_count": 7,
     "metadata": {},
     "output_type": "execute_result"
    }
   ],
   "source": [
    "def inaccurate_estimation():\n",
    "    ages = np.array([entry[1] for  entry in ls])\n",
    "    return np.mean(ages)\n",
    "round(inaccurate_estimation(), 2)"
   ]
  },
  {
   "attachments": {},
   "cell_type": "markdown",
   "metadata": {},
   "source": [
    "Plotting the evolution of the estimator"
   ]
  },
  {
   "cell_type": "code",
   "execution_count": 8,
   "metadata": {},
   "outputs": [],
   "source": [
    "def estimator_evolution():\n",
    "    for i in range(1, len(ls)):\n",
    "        yield unbiased_estimator(ages[0:i], degrees[0:i])"
   ]
  },
  {
   "cell_type": "code",
   "execution_count": 9,
   "metadata": {},
   "outputs": [
    {
     "data": {
      "image/png": "[encoded data removed]",
      "text/plain": [
       "<Figure size 640x480 with 1 Axes>"
      ]
     },
     "metadata": {},
     "output_type": "display_data"
    }
   ],
   "source": [
    "import matplotlib.pyplot as plt\n",
    "plt.plot(list(estimator_evolution()))\n",
    "plt.plot([45]*len(ls))\n",
    "plt.xscale('log')"
   ]
  },
  {
   "attachments": {},
   "cell_type": "markdown",
   "metadata": {},
   "source": [
    "We can see a large rise around 10 nodes visited and a slow convergence until when we visit around 1000 nodes."
   ]
  }
 ],
 "metadata": {
  "kernelspec": {
   "display_name": "Python 3",
   "language": "python",
   "name": "python3"
  },
  "language_info": {
   "codemirror_mode": {
    "name": "ipython",
    "version": 3
   },
   "file_extension": ".py",
   "mimetype": "text/x-python",
   "name": "python",
   "nbconvert_exporter": "python",
   "pygments_lexer": "ipython3",
   "version": "3.9.13"
  },
  "vscode": {
   "interpreter": {
    "hash": "034e82c898f96a531aea7f463adf54ed75110b5c8a706bc29f14438863882a0d"
   }
  }
 },
 "nbformat": 4,
 "nbformat_minor": 2
}
