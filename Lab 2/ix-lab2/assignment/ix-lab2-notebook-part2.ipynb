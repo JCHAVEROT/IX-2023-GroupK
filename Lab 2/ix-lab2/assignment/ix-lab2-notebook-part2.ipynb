{
 "cells": [
  {
   "attachments": {},
   "cell_type": "markdown",
   "metadata": {},
   "source": [
    "# Networks: structure, evolution & processes\n",
    "**Internet Analytics - Lab 2**\n",
    "\n",
    "---\n",
    "\n",
    "**Group:** K\n",
    "\n",
    "**Names:**\n",
    "\n",
    "* Mathieu Sauser\n",
    "* Jérémy Chaverot\n",
    "* Heikel Jebali\n",
    "* Luca Mouchel\n",
    "---\n",
    "\n",
    "#### Instructions\n",
    "\n",
    "*This is a template for part 2 of the lab. Clearly write your answers, comments and interpretations in Markodown cells. Don't forget that you can add $\\LaTeX$ equations in these cells. Feel free to add or remove any cell.*\n",
    "\n",
    "*Please properly comment your code. Code readability will be considered for grading. To avoid long cells of codes in the notebook, you can also embed long python functions and classes in a separate module. Don’t forget to hand in your module if that is the case. In multiple exercises, you are required to come up with your own method to solve various problems. Be creative and clearly motivate and explain your methods. Creativity and clarity will be considered for grading.*"
   ]
  },
  {
   "cell_type": "markdown",
   "metadata": {},
   "source": [
    "---\n",
    "\n",
    "## 2.2 Network sampling\n",
    "\n",
    "#### Exercise 2.7: Random walk on the Facebook network"
   ]
  },
  {
   "cell_type": "code",
   "execution_count": 2,
   "metadata": {},
   "outputs": [],
   "source": [
    "import requests\n",
    "import random\n",
    "import numpy as np"
   ]
  },
  {
   "cell_type": "code",
   "execution_count": 3,
   "metadata": {
    "collapsed": true
   },
   "outputs": [
    {
     "name": "stdout",
     "output_type": "stream",
     "text": [
      "100 iterations done, current age average: 22.58\n",
      "200 iterations done, current age average: 24.04\n",
      "300 iterations done, current age average: 23.33\n",
      "400 iterations done, current age average: 22.37\n",
      "500 iterations done, current age average: 22.05\n",
      "600 iterations done, current age average: 22.67\n",
      "700 iterations done, current age average: 25.73\n",
      "800 iterations done, current age average: 26.04\n",
      "900 iterations done, current age average: 25.91\n",
      "At 1000 iterations, we find that the average age is: 25.599\n"
     ]
    }
   ],
   "source": [
    "URL_TEMPLATE = 'http://iccluster050.iccluster.epfl.ch:5050/v1.0/facebook?user={user_id}'\n",
    "\n",
    "\"\"\"\n",
    "    This function returns the data of a user with the given user_id in JSON format.\n",
    "\"\"\"\n",
    "def get_data(user_id):\n",
    "    return requests.get(URL_TEMPLATE.format(user_id=user_id)).json()\n",
    "\n",
    "\"\"\"\n",
    "    This function performs a random walk on the Facebook graph, starting from the Source s and visits N nodes.\n",
    "    we retrieve data from each node and store the age of each node in the ages list which \n",
    "    we use to compute the average age.\n",
    "\"\"\"\n",
    "def random_walk(s, N, log_progess=False):\n",
    "    #attributes is a list of tuples (user_id, age, number_of_friends)\n",
    "    attributes = []\n",
    "    source = get_data(s)\n",
    "    attributes.append((s, source['age'], len(source['friends'])))\n",
    "\n",
    "    u = s\n",
    "    i = 0\n",
    "    while i < N:\n",
    "        if log_progess:\n",
    "            if i % 100 == 0 and i != 0:\n",
    "                ages = np.array(attributes)[:,1].astype(np.int64)\n",
    "                print(f'{i} iterations done, current age average: {round(np.mean(ages), 2)}')\n",
    "        data = get_data(u)\n",
    "        age = data['age']\n",
    "        neighbors = data['friends']\n",
    "        v = random.choice(neighbors)\n",
    "        u = v\n",
    "        attributes.append((u, age, len(neighbors)))\n",
    "        i = i+1\n",
    "    return attributes\n",
    "        \n",
    "#because we have tuples of the form (user_id, age, number_of_friends), to collect the list of ages, we apply numpy \n",
    "#slicing using [:, 1] which returns every element of index 1 in the tuple, which is the age.\n",
    "ages = np.array(random_walk(s=\"a5771bce93e200c36f7cd9dfd0e5deaa\", N=1000, log_progess=True))[:, 1].astype(np.int64)\n",
    "print(f\"At 1000 iterations, we find that the average age is: {round(np.mean(ages), 3)}\")\n"
   ]
  },
  {
   "attachments": {},
   "cell_type": "markdown",
   "metadata": {},
   "source": [
    "Our estimation of the average age of a Facebook user is $25.6$ years. To get this estimation, we visited $1000$ users."
   ]
  },
  {
   "cell_type": "markdown",
   "metadata": {},
   "source": [
    "#### Exercise 2.8"
   ]
  },
  {
   "attachments": {},
   "cell_type": "markdown",
   "metadata": {},
   "source": [
    "$1.$ Our estimation is pretty far from the true average age, by nearly 20 years.\n",
    "\n",
    "$2.$ It seems people tend to be friends with users the same age as them. \n",
    "\n",
    "$3.$ As seen in class, we will use an unbiased estimator. Because we don't know the total number of edges and the total number of vertices, the estimator we use is the following:\n",
    "\n",
    "$$\\hat{F} = \\frac{\\sum_t f(X_t)/d_{X_t}}{\\sum_t 1/d_{X_t}}$$ \n"
   ]
  },
  {
   "cell_type": "code",
   "execution_count": 14,
   "metadata": {},
   "outputs": [],
   "source": [
    "ls = random_walk(\"a5771bce93e200c36f7cd9dfd0e5deaa\", 1000, False)"
   ]
  },
  {
   "attachments": {},
   "cell_type": "markdown",
   "metadata": {},
   "source": [
    "What we do here is basically allowing users to only appear once in the computations then collect the ages and degrees (the number of friends of each user), and computing the unbiased estimator which gives a result very close to the average age released by facebook. If we visit a larger number of nodes, we would surely get closer to the true average age."
   ]
  },
  {
   "cell_type": "code",
   "execution_count": 15,
   "metadata": {
    "collapsed": true
   },
   "outputs": [],
   "source": [
    "ls = np.array(ls)\n",
    "def accurate_estimation():\n",
    "    #axis=0 is the index of  the user_id in the tuples, so we make each user_id appear only once\n",
    "    _, indices = np.unique(ls, axis=0, return_index=True)\n",
    "    new_ages = ls[:, 1][indices].astype(np.int64)\n",
    "    new_degrees = ls[:, 2][indices].astype(np.int64)\n",
    "    #return the value of the unbiased estimator\n",
    "    return np.sum(new_ages / new_degrees) / np.sum(1/new_degrees)\n"
   ]
  },
  {
   "cell_type": "code",
   "execution_count": 16,
   "metadata": {},
   "outputs": [
    {
     "data": {
      "text/plain": [
       "41.54"
      ]
     },
     "execution_count": 16,
     "metadata": {},
     "output_type": "execute_result"
    }
   ],
   "source": [
    "round(accurate_estimation(), 2)"
   ]
  },
  {
   "attachments": {},
   "cell_type": "markdown",
   "metadata": {},
   "source": [
    "Without using an unbiased estimator, one could try to have a naive approach and say imagine we just allow users to appear only once to not mess with the computation and then compute the mean of the ages, but this still shows some bias as we can see that the age we find is far from the average age facebook released."
   ]
  },
  {
   "cell_type": "code",
   "execution_count": 17,
   "metadata": {},
   "outputs": [
    {
     "data": {
      "text/plain": [
       "21.92"
      ]
     },
     "execution_count": 17,
     "metadata": {},
     "output_type": "execute_result"
    }
   ],
   "source": [
    "def inaccurate_estimation():\n",
    "    _, indices = np.unique(ls, axis=0, return_index=True)\n",
    "    new_ages = ls[:, 1][indices].astype(np.int64)\n",
    "    return np.mean(new_ages)\n",
    "\n",
    "round(inaccurate_estimation(), 2)"
   ]
  }
 ],
 "metadata": {
  "kernelspec": {
   "display_name": "Python 3",
   "language": "python",
   "name": "python3"
  },
  "language_info": {
   "codemirror_mode": {
    "name": "ipython",
    "version": 3
   },
   "file_extension": ".py",
   "mimetype": "text/x-python",
   "name": "python",
   "nbconvert_exporter": "python",
   "pygments_lexer": "ipython3",
   "version": "3.8.8"
  }
 },
 "nbformat": 4,
 "nbformat_minor": 2
}
